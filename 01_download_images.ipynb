{
 "cells": [
  {
   "cell_type": "code",
   "execution_count": null,
   "id": "fcf56be6-eaa4-43d9-bb1f-50ae570fb440",
   "metadata": {},
   "outputs": [],
   "source": [
    "# this only need to be done once, \n",
    "# it will install gallery-dl to your coding3 environment\n",
    "\n",
    "!pip install -U gallery-dl"
   ]
  },
  {
   "cell_type": "code",
   "execution_count": 2,
   "id": "ad7f5438-4857-4827-be79-e890902cd034",
   "metadata": {},
   "outputs": [],
   "source": [
    "from PIL import Image\n",
    "import os, os.path\n",
    "import shutil\n",
    "\n",
    "from torchvision.transforms.v2.functional import resize"
   ]
  },
  {
   "cell_type": "code",
   "execution_count": 3,
   "id": "443f7d49-b957-44ef-9520-33a5cdb9fc37",
   "metadata": {},
   "outputs": [],
   "source": [
    "my_dataset_path = './data/my_dataset'\n",
    "\n",
    "try:\n",
    "    os.mkdir(my_dataset_path)\n",
    "except FileExistsError:\n",
    "    print(f'{my_dataset_path} already existed, no worries, keep going')"
   ]
  },
  {
   "cell_type": "code",
   "execution_count": null,
   "id": "44292bc8-c060-4aad-ad62-d95939b3faf9",
   "metadata": {
    "scrolled": true,
    "tags": []
   },
   "outputs": [],
   "source": [
    "# make sure to replace the URL to the board you found!\n",
    "\n",
    "!gallery-dl https://www.pinterest.co.uk/______/______/ --filter \"extension in ('jpg', 'png', 'gif')\""
   ]
  },
  {
   "cell_type": "code",
   "execution_count": 12,
   "id": "992e7749-515f-411a-9d3e-2f350ae797c5",
   "metadata": {},
   "outputs": [],
   "source": [
    "# change this to the correct path to the folder of images you downloaded\n",
    "source_folder = f\"./gallery-dl/pinterest/______/______\"\n",
    "\n",
    "# change this to a name of this category, it is up to you\n",
    "# this is going to be the name of the subfolder\n",
    "class_name = '______' \n",
    "\n",
    "# we want to crop the images to this resolution\n",
    "target_resolution = 128"
   ]
  },
  {
   "cell_type": "code",
   "execution_count": null,
   "id": "d8830743-8496-404e-a0dc-e77eeaf0175d",
   "metadata": {},
   "outputs": [],
   "source": [
    "target_folder = os.path.join(my_dataset_path, class_name)\n",
    "\n",
    "# create a class folder if it doesnt exist\n",
    "try:\n",
    "    os.mkdir(target_folder)\n",
    "    print(f'{target_folder} created')\n",
    "except FileExistsError:\n",
    "    print(f'{target_folder} already existed')\n",
    "     \n",
    "print(f'source folder: {source_folder}')\n",
    "print(f'target folder: {target_folder}')\n",
    "\n",
    "count = len(os.listdir(target_folder))\n",
    "print(f'{count} files in the target_folder')\n",
    "valid_file_type = [\".jpg\", \".gif\", \".png\"]\n",
    "\n",
    "for i, f in enumerate(os.listdir(source_folder)):\n",
    "    \n",
    "    # check the file extension\n",
    "    ext = os.path.splitext(f)[1]\n",
    "    if ext.lower() not in valid_file_type:\n",
    "        continue\n",
    "    \n",
    "    # load and resize an image from the source folder\n",
    "    img = Image.open(os.path.join(source_folder,f)).convert('RGB')\n",
    "    img = resize(img, target_resolution)\n",
    "    \n",
    "    # save the resized image into target folder\n",
    "    img.save(f'{target_folder}/{count:05}.jpg')\n",
    "    \n",
    "    if count % 100 == 0:\n",
    "        print(f'processing the first {count+100} images...')\n",
    "        \n",
    "    count += 1  \n",
    "    \n",
    "print(f'saved {count} images into {target_folder}')"
   ]
  }
 ],
 "metadata": {
  "kernelspec": {
   "display_name": "Python 3 (ipykernel)",
   "language": "python",
   "name": "python3"
  },
  "language_info": {
   "codemirror_mode": {
    "name": "ipython",
    "version": 3
   },
   "file_extension": ".py",
   "mimetype": "text/x-python",
   "name": "python",
   "nbconvert_exporter": "python",
   "pygments_lexer": "ipython3",
   "version": "3.10.12"
  }
 },
 "nbformat": 4,
 "nbformat_minor": 5
}
