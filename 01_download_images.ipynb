{
 "cells": [
  {
   "cell_type": "markdown",
   "id": "94e67da1-02f2-4b1a-aaac-1ebe65633894",
   "metadata": {},
   "source": [
    "\n",
    "Borrowed from Terry's AI-4-Media unit, week 3: [create-classification-dataset.ipynb](https://git.arts.ac.uk/tbroad/AI-4-Media-23-24/blob/main/Week-3-CNNs-and-image-classification/create-classification-dataset.ipynb)\n"
   ]
  },
  {
   "cell_type": "markdown",
   "id": "922b8346-af40-4019-9647-3ff69e4aa1e6",
   "metadata": {},
   "source": [
    "## Make a classification dataset  \n",
    "\n",
    "In this notebook we are going to look at how to quickly make our own image classification datasets, which we can then use for training an image classifier.\n",
    "\n",
    "To do this we are going to use a python library called [`gallery-dl`](https://github.com/mikf/gallery-dl). This allows us to download entire image galleries from sites such as [pinterest](https://www.pinterest.co.uk/), [tumblr](https://www.tumblr.com/), and [bbc](https://www.bbc.co.uk/). \n",
    "\n",
    "In this walkthrough we will look at downloading from pinterest, downloading boards that have been pre-curated by other users on the platform. \n",
    "\n",
    "First let's do some installation:"
   ]
  },
  {
   "cell_type": "code",
   "execution_count": null,
   "id": "fcf56be6-eaa4-43d9-bb1f-50ae570fb440",
   "metadata": {},
   "outputs": [],
   "source": [
    "# this only need to be done once, \n",
    "# it will install gallery-dl to your coding3 environment\n",
    "\n",
    "!pip install -U gallery-dl"
   ]
  },
  {
   "cell_type": "markdown",
   "id": "225000a0-279b-4ea5-b26d-c2188082397c",
   "metadata": {},
   "source": [
    "Then let's do some import"
   ]
  },
  {
   "cell_type": "code",
   "execution_count": 2,
   "id": "ad7f5438-4857-4827-be79-e890902cd034",
   "metadata": {},
   "outputs": [],
   "source": [
    "from PIL import Image\n",
    "import os, os.path\n",
    "import shutil\n",
    "\n",
    "from torchvision.transforms.v2.functional import resize"
   ]
  },
  {
   "cell_type": "markdown",
   "id": "ff403da5-f55c-4cfa-8adb-bb8bf5568780",
   "metadata": {},
   "source": [
    "### Step 1: Make a folder for your dataset\n",
    "\n",
    "Lets make a folder for you dataset. We will call it `my_dataset`. And put it in the folder `./data`."
   ]
  },
  {
   "cell_type": "code",
   "execution_count": 3,
   "id": "443f7d49-b957-44ef-9520-33a5cdb9fc37",
   "metadata": {},
   "outputs": [],
   "source": [
    "my_dataset_path = './data/my_dataset'\n",
    "\n",
    "try:\n",
    "    os.mkdir(my_dataset_path)\n",
    "except FileExistsError:\n",
    "    print(f'{my_dataset_path} already existed, no worries, keep going')"
   ]
  },
  {
   "cell_type": "markdown",
   "id": "28940507-35db-45bb-a93e-20cf3b202722",
   "metadata": {},
   "source": [
    "### Step 2: Navigate to pinterest and download a board\n",
    "\n",
    "Go to https://www.pinterest.co.uk/ and search for a category of image or thing of your interest. It is totally up to you what classes you have in your dataset!\n",
    "\n",
    "When searching for a category you will need to click the filter on the side after a search query is made and then select the option for **Boards**. See the image below:\n",
    "\n",
    "<img src=\"./src/graphics/pinterest-filter-example.png\" width=\"800\"></img>\n",
    "\n",
    "Select a board and then look at the URL of the pinterest board, it should be something like `https://www.pinterest.co.uk/user_id/board_id/`, use the URL as an argument for the command below:\n",
    "\n",
    "For example, `!gallery-dl https://www.pinterest.co.uk/bbuechi/chair-design/ --filter \"extension in ('jpg', 'png', 'gif')\"`  "
   ]
  },
  {
   "cell_type": "markdown",
   "id": "e2a0a3ba-8f75-41ae-a02a-9ff7d9ba46a9",
   "metadata": {},
   "source": [
    "You can early stop it if there're too many images in the board, but typically you'll need at least a few hundreds of images for one class"
   ]
  },
  {
   "cell_type": "code",
   "execution_count": null,
   "id": "44292bc8-c060-4aad-ad62-d95939b3faf9",
   "metadata": {
    "scrolled": true,
    "tags": []
   },
   "outputs": [],
   "source": [
    "# make sure to replace the URL to the board you found!\n",
    "\n",
    "!gallery-dl https://www.pinterest.co.uk/______/______/ --filter \"extension in ('jpg', 'png', 'gif')\""
   ]
  },
  {
   "cell_type": "markdown",
   "id": "b11a5bfa-0acf-407d-b6ee-0676103dd29b",
   "metadata": {
    "tags": []
   },
   "source": [
    "### Step 3: Resize downloaded images and save them into the respective class folder \n",
    "\n",
    "After downloading, you will see a folder called `gallery-dl` which contains the subfolder `gallery-dl/pinterest/user-id/board name`. Inside you'll find the images you have just downloaded (you will need to change **user-id** and **board-id** to whatever you have downloaded).\n",
    "\n",
    "We're going to put these images into a subfolder in your dataset folder, the name of this subfolders is going to be the name of this class (e.g. put all images of cat into a folder named 'cat')\n",
    "\n",
    "Some images may be too large in its resolution, we can scale them down at this stage to speed up the training.\n",
    "\n",
    "The following code will check images we downloaded, resize them to a reasonable size, and save them into the dataset folder we created.\n",
    "\n",
    "Make sure to **edit the following code with the correct path to your image folder**:"
   ]
  },
  {
   "cell_type": "code",
   "execution_count": 12,
   "id": "992e7749-515f-411a-9d3e-2f350ae797c5",
   "metadata": {},
   "outputs": [],
   "source": [
    "# change this to the correct path to the folder of images you downloaded\n",
    "source_folder = f\"./gallery-dl/pinterest/______/______\"\n",
    "\n",
    "# change this to a name of this category, it is up to you\n",
    "# this is going to be the name of the subfolder\n",
    "class_name = '______' \n",
    "\n",
    "# we want to crop the images to this resolution\n",
    "target_resolution = 128"
   ]
  },
  {
   "cell_type": "code",
   "execution_count": null,
   "id": "d8830743-8496-404e-a0dc-e77eeaf0175d",
   "metadata": {},
   "outputs": [],
   "source": [
    "target_folder = os.path.join(my_dataset_path, class_name)\n",
    "\n",
    "# create a class folder if it doesnt exist\n",
    "try:\n",
    "    os.mkdir(target_folder)\n",
    "    print(f'{target_folder} created')\n",
    "except FileExistsError:\n",
    "    print(f'{target_folder} already existed')\n",
    "     \n",
    "print(f'source folder: {source_folder}')\n",
    "print(f'target folder: {target_folder}')\n",
    "\n",
    "count = len(os.listdir(target_folder))\n",
    "print(f'{count} files in the target_folder')\n",
    "valid_file_type = [\".jpg\", \".gif\", \".png\"]\n",
    "\n",
    "for i, f in enumerate(os.listdir(source_folder)):\n",
    "    \n",
    "    # check the file extension\n",
    "    ext = os.path.splitext(f)[1]\n",
    "    if ext.lower() not in valid_file_type:\n",
    "        continue\n",
    "    \n",
    "    # load and resize an image from the source folder\n",
    "    img = Image.open(os.path.join(source_folder,f)).convert('RGB')\n",
    "    img = resize(img, target_resolution)\n",
    "    \n",
    "    # save the resized image into target folder\n",
    "    img.save(f'{target_folder}/{count:05}.jpg')\n",
    "    \n",
    "    if count % 100 == 0:\n",
    "        print(f'processing the first {count+100} images...')\n",
    "        \n",
    "    count += 1  \n",
    "    \n",
    "print(f'saved {count} images into {target_folder}')"
   ]
  },
  {
   "cell_type": "markdown",
   "id": "27db0f6d-e22e-49d4-a668-eb025827e854",
   "metadata": {},
   "source": [
    "#### Step 4: Repeat\n",
    "\n",
    "Repeat steps 2 & 3 until you have **at least two categoies**. You may need to download more than 1 board for each category to get enough number of images. A common rule of thumb is that you need at least a few hundreds of images per category to train an effective classifier. \n",
    "\n",
    "**Don't forget to look at the data before training!** Make sure that the dataset you have collected contains the thing that you actually want to be there. It is very easy for junk or data samples that aren't actually of the class you want to be in there. You may have to do some manual data cleaning to remove unwanted samples if you are serious about training an effective image classifier. \n",
    "\n",
    "After completion you can go ahead and delete the folder `gallery-dl`.\n"
   ]
  },
  {
   "cell_type": "code",
   "execution_count": null,
   "id": "231ba146-b3d7-4a02-b9c5-db1341db8499",
   "metadata": {},
   "outputs": [],
   "source": []
  }
 ],
 "metadata": {
  "kernelspec": {
   "display_name": "Python 3 (ipykernel)",
   "language": "python",
   "name": "python3"
  },
  "language_info": {
   "codemirror_mode": {
    "name": "ipython",
    "version": 3
   },
   "file_extension": ".py",
   "mimetype": "text/x-python",
   "name": "python",
   "nbconvert_exporter": "python",
   "pygments_lexer": "ipython3",
   "version": "3.10.12"
  }
 },
 "nbformat": 4,
 "nbformat_minor": 5
}
